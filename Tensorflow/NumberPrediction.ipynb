{
 "cells": [
  {
   "cell_type": "code",
   "execution_count": 51,
   "id": "41538270",
   "metadata": {},
   "outputs": [
    {
     "name": "stdout",
     "output_type": "stream",
     "text": [
      "Epoch 1/5\n",
      "1875/1875 [==============================] - 4s 2ms/step - loss: 0.4544 - accuracy: 0.8683\n",
      "Epoch 2/5\n",
      "1875/1875 [==============================] - 3s 2ms/step - loss: 0.1082 - accuracy: 0.9670\n",
      "Epoch 3/5\n",
      "1875/1875 [==============================] - 3s 2ms/step - loss: 0.0723 - accuracy: 0.9775\n",
      "Epoch 4/5\n",
      "1875/1875 [==============================] - 3s 1ms/step - loss: 0.0508 - accuracy: 0.9843\n",
      "Epoch 5/5\n",
      "1875/1875 [==============================] - 3s 2ms/step - loss: 0.0382 - accuracy: 0.9880\n"
     ]
    },
    {
     "data": {
      "text/plain": [
       "<tensorflow.python.keras.callbacks.History at 0x2820db3fbe0>"
      ]
     },
     "execution_count": 51,
     "metadata": {},
     "output_type": "execute_result"
    }
   ],
   "source": [
    "import tensorflow as tf\n",
    "from PaintProgram import *\n",
    "import numpy as np\n",
    "import matplotlib.pyplot as plt\n",
    "\n",
    "mnist = tf.keras.datasets.mnist #28x28 images \n",
    "\n",
    "(xtrain,ytrain),(xtest,ytest)=mnist.load_data()\n",
    "\n",
    "xtrain = tf.keras.utils.normalize(xtrain,axis=1)\n",
    "xtest = tf.keras.utils.normalize(xtest,axis=1)\n",
    "\n",
    "#feed forward model\n",
    "model = tf.keras.models.Sequential()\n",
    "\n",
    "#input layer\n",
    "model.add(tf.keras.layers.Flatten())\n",
    "\n",
    "#hidden layer 1\n",
    "model.add(tf.keras.layers.Dense(128,activation=tf.nn.relu))\n",
    "\n",
    "#hidden layer 2\n",
    "model.add(tf.keras.layers.Dense(128,activation=tf.nn.relu))\n",
    "\n",
    "#output layer\n",
    "model.add(tf.keras.layers.Dense(10,activation=tf.nn.softmax))\n",
    "\n",
    "#model parameters\n",
    "model.compile(optimizer='adam',loss='sparse_categorical_crossentropy',metrics=['accuracy'])\n",
    "\n",
    "model.fit(xtrain,ytrain,epochs=5)"
   ]
  },
  {
   "cell_type": "code",
   "execution_count": 53,
   "id": "bf2934ef",
   "metadata": {},
   "outputs": [
    {
     "name": "stdout",
     "output_type": "stream",
     "text": [
      "313/313 [==============================] - 0s 742us/step - loss: 0.0879 - accuracy: 0.9741\n",
      "0.08790243417024612 0.9740999937057495\n"
     ]
    }
   ],
   "source": [
    "#using test data to measure loss and accuracy\n",
    "val_loss, val_acc = model.evaluate(xtest,ytest)\n",
    "print(val_loss, val_acc)"
   ]
  },
  {
   "cell_type": "code",
   "execution_count": null,
   "id": "0c43262a",
   "metadata": {},
   "outputs": [],
   "source": [
    "drawing = Paint()\n",
    "drawing.img[drawing.img==1] = 0\n",
    "drawn_num = tf.keras.utils.normalize(drawing.img,axis=1)\n",
    "predictions = model.predict(np.array([drawn_num,]))\n",
    "print(\"The prediction of the number you drew is\",np.argmax(predictions))\n",
    "plt.imshow(drawn_num, cmap=plt.cm.binary)"
   ]
  }
 ],
 "metadata": {
  "kernelspec": {
   "display_name": "Python 3",
   "language": "python",
   "name": "python3"
  },
  "language_info": {
   "codemirror_mode": {
    "name": "ipython",
    "version": 3
   },
   "file_extension": ".py",
   "mimetype": "text/x-python",
   "name": "python",
   "nbconvert_exporter": "python",
   "pygments_lexer": "ipython3",
   "version": "3.8.3"
  }
 },
 "nbformat": 4,
 "nbformat_minor": 5
}
